{
  "nbformat": 4,
  "nbformat_minor": 0,
  "metadata": {
    "colab": {
      "name": "covid19_visualizer",
      "provenance": [],
      "collapsed_sections": [],
      "authorship_tag": "ABX9TyOFjXrbBfB68Q3XpdNABQ+t",
      "include_colab_link": true
    },
    "kernelspec": {
      "name": "python3",
      "display_name": "Python 3"
    }
  },
  "cells": [
    {
      "cell_type": "markdown",
      "metadata": {
        "id": "view-in-github",
        "colab_type": "text"
      },
      "source": [
        "<a href=\"https://colab.research.google.com/github/shouryan01/COVID-19-Tracker/blob/master/covid19_visualizer.ipynb\" target=\"_parent\"><img src=\"https://colab.research.google.com/assets/colab-badge.svg\" alt=\"Open In Colab\"/></a>"
      ]
    },
    {
      "cell_type": "code",
      "metadata": {
        "id": "883lL1hWljQa",
        "colab_type": "code",
        "colab": {}
      },
      "source": [
        "#IMPORT LIBRARIES\n",
        "\n",
        "import pandas as pd\n",
        "import numpy as np\n",
        "import datetime\n",
        "import plotly.express as px\n",
        "import plotly.io as pio\n",
        "\n",
        "\n",
        "print(\"Done!\")"
      ],
      "execution_count": null,
      "outputs": []
    },
    {
      "cell_type": "code",
      "metadata": {
        "id": "TPqYfW_Zlw7m",
        "colab_type": "code",
        "colab": {}
      },
      "source": [
        "#LOAD DATA\n",
        "\n",
        "GLOBAL_CASES_SOURCE      = 'https://raw.githubusercontent.com/CSSEGISandData/COVID-19/master/csse_covid_19_data/csse_covid_19_time_series/time_series_covid19_confirmed_global.csv'\n",
        "GLOBAL_DEATHS_SOURCE     = 'https://raw.githubusercontent.com/CSSEGISandData/COVID-19/master/csse_covid_19_data/csse_covid_19_time_series/time_series_covid19_deaths_global.csv'\n",
        "GLOBAL_RECOVERIES_SOURCE = 'https://raw.githubusercontent.com/CSSEGISandData/COVID-19/master/csse_covid_19_data/csse_covid_19_time_series/time_series_covid19_recovered_global.csv'\n",
        "\n",
        "global_cases      = pd.read_csv(GLOBAL_CASES_SOURCE)\n",
        "global_deaths     = pd.read_csv(GLOBAL_DEATHS_SOURCE)\n",
        "global_recoveries = pd.read_csv(GLOBAL_RECOVERIES_SOURCE)\n",
        "datasets = [global_cases, global_deaths, global_recoveries]\n",
        "\n",
        "date_yesterday = pd.to_datetime(global_cases.columns[-1]).date()\n",
        "date_today     = date_yesterday + datetime.timedelta(days=1)\n",
        "date_before_yesterday = date_yesterday - datetime.timedelta(days=1)\n",
        "\n",
        "print('\\nData was last updated on ' + str(date_today) + '.' + ' Latest data available for ' + str(date_yesterday))"
      ],
      "execution_count": null,
      "outputs": []
    },
    {
      "cell_type": "code",
      "metadata": {
        "id": "FPU3OJj-ogcw",
        "colab_type": "code",
        "colab": {}
      },
      "source": [
        "#CLEAN DATA\n",
        "\n",
        "#Drop all negative values\n",
        "def remove_negatives(df):\n",
        "    indices = df[df.iloc[:, -1] < 0].index.tolist() #index of all rows, last column\n",
        "    for i in indices:\n",
        "        df.drop([i], inplace = True)\n",
        "    return df.reset_index(drop = True)\n",
        "datasets = [remove_negatives(i) for i in datasets]\n",
        "\n",
        "#Rename columns, deal with NaN, change to datetime format\n",
        "for i in range(3):\n",
        "    datasets[i].rename(columns={'Country/Region':'Country', 'Province/State':'State'}, inplace=True)\n",
        "    # datasets[i][['State']] = datasets[i][['State']].fillna('')\n",
        "    datasets[i] = datasets[i].fillna('')\n",
        "    datasets[i].fillna(0, inplace=True)\n",
        "    datasets[i].columns = datasets[i].columns[:4].tolist() + \\\n",
        "                          [pd.to_datetime(datasets[i].columns[j]).date() for j in range(4, len(datasets[i].columns))]\n",
        "\n",
        "datasets[0]"
      ],
      "execution_count": null,
      "outputs": []
    },
    {
      "cell_type": "code",
      "metadata": {
        "id": "cl_qrqaovlWx",
        "colab_type": "code",
        "colab": {}
      },
      "source": [
        "#GROUP BY COUNTRY\n",
        "\n",
        "country_datasets = []\n",
        "labels = ['Global Cases     ', 'Global Deaths    ', 'Global Recoveries']\n",
        "df_labels = ['Cases', 'Deaths', 'Recoveries']\n",
        "\n",
        "for i in range(3):\n",
        "    total = datasets[i].groupby('Country').sum()\n",
        "    total.rename(index={'US':'United States'}, inplace = True)\n",
        "    country_datasets.append(total)\n",
        "\n",
        "country_datasets[0]\n",
        "# country_datasets[0][[date_yesterday]]"
      ],
      "execution_count": null,
      "outputs": []
    },
    {
      "cell_type": "code",
      "metadata": {
        "id": "H6A3L69IqIf8",
        "colab_type": "code",
        "colab": {}
      },
      "source": [
        "#INSTALL country_converter\n",
        "\n",
        "!pip install country_converter --upgrade"
      ],
      "execution_count": null,
      "outputs": []
    },
    {
      "cell_type": "code",
      "metadata": {
        "id": "gtCmfC-yvlUo",
        "colab_type": "code",
        "colab": {}
      },
      "source": [
        "#LABEL CONTINENTS\n",
        "\n",
        "#FIX NORTH/SOUTH America\n",
        "\n",
        "import country_converter as coco\n",
        "\n",
        "for dataset in country_datasets:\n",
        "    continent = coco.convert(names=dataset.index.tolist(), to='Continent')\n",
        "    dataset['Continent'] = continent\n",
        "\n",
        "country_datasets[0]"
      ],
      "execution_count": null,
      "outputs": []
    },
    {
      "cell_type": "code",
      "metadata": {
        "id": "CZiSuQBVzGjQ",
        "colab_type": "code",
        "colab": {}
      },
      "source": [
        "#GLOBAL STATISTICS\n",
        "\n",
        "print('As of: ', str(date_today), '\\n')\n",
        "\n",
        "for i in range(3):\n",
        "    print('{} : {:,d}'.format(labels[i], datasets[i].sum()[date_yesterday]))\n",
        "\n",
        "print('\\nGlobal Mortality Rate : {:.2f}%'.format(datasets[1].sum()[date_yesterday]/datasets[0].sum()[date_yesterday] * 100))\n",
        "print('Global Recovery Rate  : {:.2f}%'.format(datasets[2].sum()[date_yesterday]/datasets[0].sum()[date_yesterday] * 100))"
      ],
      "execution_count": null,
      "outputs": []
    },
    {
      "cell_type": "code",
      "metadata": {
        "id": "vktaH3IoE-Uf",
        "colab_type": "code",
        "colab": {}
      },
      "source": [
        "#TOP 10 DAILY STATISTICS (ranked by current total cases/deaths/recoveries)\n",
        "\n",
        "def daily():\n",
        "    #Compute daily changes\n",
        "    datasets_daily = [df.sort_values(by=date_yesterday, ascending=False).iloc[:, 2:-1].diff(axis=1).fillna(0).T for df in country_datasets]\n",
        "\n",
        "    return datasets_daily\n",
        "\n",
        "daily()[0]"
      ],
      "execution_count": null,
      "outputs": []
    },
    {
      "cell_type": "code",
      "metadata": {
        "id": "ked2QYRO-Qil",
        "colab_type": "code",
        "colab": {}
      },
      "source": [
        "#IMPORT BOKEH LIBRARIES\n",
        "from bokeh.io        import output_file, show, output_notebook, save\n",
        "from bokeh.plotting  import figure\n",
        "from bokeh.models    import ColumnDataSource, HoverTool\n",
        "from bokeh.palettes  import Dark2 as palette #https://docs.bokeh.org/en/latest/docs/reference/palettes.html#matplotlib-palettes\n",
        "from bokeh.transform import factor_cmap\n",
        "\n",
        "print(\"Done!\")"
      ],
      "execution_count": null,
      "outputs": []
    },
    {
      "cell_type": "code",
      "metadata": {
        "id": "Sds1g7cFE-TI",
        "colab_type": "code",
        "colab": {}
      },
      "source": [
        "#VISUALIZE CASES, DEATHS, RECOVERIES\n",
        "\n",
        "def bokehB(dataset, case):\n",
        "    df = dataset.iloc[:,-2:].sort_values(by=dataset.columns[-2], \n",
        "                                       ascending=False).head(20)\n",
        "    df['totals'] = df.iloc[:,0]\n",
        "    df.drop(df.columns[0], axis=1, inplace=True)\n",
        "    cont_cat = len(df['Continent'].unique())\n",
        "    \n",
        "    #++++++++++++++++++++++++++++++++++++++++++++++++++++++++++\n",
        "    source = ColumnDataSource(df)\n",
        "\n",
        "    select_tools = ['save']\n",
        "    tooltips = [\n",
        "        ('Country', '@Country'),('Total', '@totals{0,000}')\n",
        "        ]\n",
        "\n",
        "    p = figure(x_range=df.index.tolist(), plot_width=840, plot_height=600,\n",
        "               x_axis_label='Country', \n",
        "               y_axis_label='Totals',\n",
        "               title=\"Top Countries in {} as of \".format(case.strip()) +  str(date_today),\n",
        "               tools=select_tools)\n",
        "\n",
        "    p.vbar(x='Country', top='totals', width=0.9, alpha=0.7, source=source, \n",
        "           legend_field=\"Continent\",\n",
        "           color=factor_cmap('Continent', palette=palette[cont_cat], \n",
        "                             factors=df.Continent.unique()))\n",
        "\n",
        "    p.xgrid.grid_line_color = None\n",
        "    p.y_range.start = 0\n",
        "    p.xaxis.major_label_orientation = 1\n",
        "    p.left[0].formatter.use_scientific = False\n",
        "\n",
        "    p.add_tools(HoverTool(tooltips=tooltips))\n",
        "\n",
        "    output_notebook()\n",
        "    \n",
        "    return show(p) \n",
        "\n",
        "bokehB(country_datasets[0], labels[0])"
      ],
      "execution_count": null,
      "outputs": []
    },
    {
      "cell_type": "code",
      "metadata": {
        "id": "PheQl_TJ9YN2",
        "colab_type": "code",
        "colab": {}
      },
      "source": [
        "bokehB(country_datasets[1], labels[1])"
      ],
      "execution_count": null,
      "outputs": []
    },
    {
      "cell_type": "code",
      "metadata": {
        "id": "w003StCq9Ygm",
        "colab_type": "code",
        "colab": {}
      },
      "source": [
        "bokehB(country_datasets[2], labels[2])"
      ],
      "execution_count": null,
      "outputs": []
    },
    {
      "cell_type": "code",
      "metadata": {
        "id": "fv_GDiv-aY0D",
        "colab_type": "code",
        "colab": {}
      },
      "source": [
        "#VISUALIZE MORTALITY RATE PER CASES\n",
        "\n",
        "def bokehB_mort(num=100):\n",
        "    # top countries by deaths rate with at least num deaths\n",
        "    top_death = country_datasets[1][date_yesterday].sort_values(ascending=False)\n",
        "    top_death = top_death[top_death>num]\n",
        "    \n",
        "    # Inner join to the confirmed set, compute mortality rate and take top 20\n",
        "    df_mort = pd.concat([country_datasets[0][date_yesterday], top_death], axis=1, \n",
        "                        join='inner')\n",
        "    mort_rate = round(df_mort.iloc[:,1] / df_mort.iloc[:,0] * 100, 2)\n",
        "    mort_rate = mort_rate.sort_values(ascending=False).to_frame().head(20)\n",
        "    \n",
        "    # take yesterday's data\n",
        "    df = mort_rate.iloc[:,-1].sort_values(ascending=False).head(20).to_frame()\n",
        "    df['totals'] = df.iloc[:,-1]\n",
        "    df.drop(df.columns[0], axis=1, inplace=True)\n",
        "    \n",
        "    import country_converter as coco\n",
        "    continent = coco.convert(names=df.index.to_list(), to='Continent')\n",
        "    df['Continent'] = continent\n",
        "    cont_cat = len(df['Continent'].unique())\n",
        "    \n",
        "    source = ColumnDataSource(df)\n",
        "\n",
        "    select_tools = ['save']\n",
        "    tooltips = [\n",
        "        ('Country', '@Country'),('Rate', '@totals{0.00}%')\n",
        "        ]\n",
        "\n",
        "    p = figure(x_range=df.index.tolist(), plot_width=840, plot_height=600,\n",
        "               x_axis_label='Country', \n",
        "               y_axis_label='Rate (%)',\n",
        "               title=\"Mortality rate of countries with at least {} deaths \" \\\n",
        "               \"as of \".format(num) +  str(date_today),\n",
        "               tools=select_tools)\n",
        "\n",
        "    p.vbar(x='Country', top='totals', width=0.9, alpha=0.7, source=source,\n",
        "           legend_field=\"Continent\",\n",
        "           fill_color=factor_cmap('Continent', palette=palette[cont_cat], \n",
        "                                  factors=df.Continent.unique()))\n",
        "\n",
        "    p.xgrid.grid_line_color = None\n",
        "    p.y_range.start = 0\n",
        "    p.xaxis.major_label_orientation = 1\n",
        "    p.left[0].formatter.use_scientific = False\n",
        "\n",
        "    p.add_tools(HoverTool(tooltips=tooltips))    \n",
        "    show(p) \n",
        "\n",
        "bokehB_mort()"
      ],
      "execution_count": null,
      "outputs": []
    },
    {
      "cell_type": "code",
      "metadata": {
        "id": "B6kW5bKXamcD",
        "colab_type": "code",
        "colab": {}
      },
      "source": [
        "#CLEAN DATA FOR A MAP\n",
        "\n",
        "#Create dataset for daily cases on a national level\n",
        "daily_statistics = [3]\n",
        "for i in range(3):\n",
        "    countries_with_split_data = datasets[0][datasets[0].State!=''].Country.unique().tolist()\n",
        "    #['Australia', 'Canada', 'China', 'Denmark', 'France', 'Netherlands', 'United Kingdom']\n",
        "    # ^^ are the countries with cases at the state/province level and/or include territories\n",
        "\n",
        "    #Figuring out geographical centers of mentioned countries:\n",
        "    #Australia: -25.609361 134.361949\n",
        "    #Canada: 53.7609 -98.8139\t\n",
        "    #China: 35.7518\t104.2861\t\n",
        "    #Denmark: 56.2639\t9.5018\n",
        "    #France: 46.227600\t2.213700\t\n",
        "    #Netherlands: 52.1326\t5.2913\t\n",
        "    #UK: 55.378100\t-3.436000\t\n",
        "\n",
        "for i in range(3):\n",
        "    #Fixing Australia's center:\n",
        "    country_datasets[i].at['Australia','Lat'] = -25.609361\n",
        "    country_datasets[i].at['Australia','Long'] = 134.361949\n",
        "    #Fixing Canada's center: \n",
        "    country_datasets[i].at['Canada','Lat'] = 53.7609\n",
        "    country_datasets[i].at['Canada','Long'] = -98.8139\t\n",
        "    #Fixing China's center: \n",
        "    country_datasets[i].at['China','Lat'] = 35.7518\t\n",
        "    country_datasets[i].at['China','Long'] = 104.2861\t\n",
        "    #Fixing Denmark's center: \n",
        "    country_datasets[i].at['Denmark','Lat'] = 56.2639\t\n",
        "    country_datasets[i].at['Denmark','Long'] = 9.5018\n",
        "    #Fixing France's center: \n",
        "    country_datasets[i].at['France','Lat'] = 46.227600\t\n",
        "    country_datasets[i].at['France','Long'] = 2.213700\t\n",
        "    #Fixing the Neatherlands' center: \n",
        "    country_datasets[i].at['Netherlands','Lat'] = 52.1326\t\n",
        "    country_datasets[i].at['Netherlands','Long'] = 5.2913\t\n",
        "    #Fixing the UK's center: \n",
        "    country_datasets[i].at['United Kingdom','Lat'] = 55.378100\t\n",
        "    country_datasets[i].at['United Kingdom','Long'] = -3.436000\t\n",
        "\n",
        "    country_datasets[i]['Country'] = country_datasets[i].index\n",
        "    country_datasets[i].columns = country_datasets[i].columns.astype(str)\n",
        "\n",
        "country_datasets[1]"
      ],
      "execution_count": null,
      "outputs": []
    },
    {
      "cell_type": "code",
      "metadata": {
        "id": "E9rVPGuqc4tq",
        "colab_type": "code",
        "colab": {}
      },
      "source": [
        "fig = px.scatter_geo(country_datasets[0],\n",
        "                     lat=\"Lat\", lon=\"Long\", color=str(date_yesterday),\n",
        "                     hover_name=\"Country\", \n",
        "                     size=str(date_yesterday),\n",
        "                     size_max=45, #hover_data=[\"State\"], \n",
        "                     template='plotly', \n",
        "                     color_continuous_scale=\"oranges\", #https://plotly.com/python/builtin-colorscales/#named-builtin-continuous-color-scales\n",
        "                     projection=\"natural earth\",\n",
        "                    #  animation_frame=country_datasets[0].columns\n",
        "                     title=\"Global Cases as of: \" + str(date_yesterday)\n",
        "                    )\n",
        "\n",
        "fig.update_layout(\n",
        "    geo=dict(showframe=True, showcoastlines=False, \n",
        "             projection_type='natural earth')\n",
        ")\n",
        "\n",
        "fig.update_geos(resolution=110, showcountries=True, \n",
        "                lataxis_range=[-55, 90], lonaxis_range=[-180, 180])\n",
        "\n",
        "fig.show()\n",
        "# pio.write_html(fig, file='plots/Geo_confirmed.html', auto_open=False)"
      ],
      "execution_count": null,
      "outputs": []
    },
    {
      "cell_type": "code",
      "metadata": {
        "id": "4Taz8TBQMj0C",
        "colab_type": "code",
        "colab": {}
      },
      "source": [
        "#TODO: add animations!!\n",
        "\n",
        "fig = px.scatter_geo(country_datasets[1],\n",
        "                     lat=\"Lat\", lon=\"Long\", color=str(date_yesterday),\n",
        "                     hover_name=\"Country\", \n",
        "                     size=str(date_yesterday),\n",
        "                     size_max=35, #hover_data=[\"State\"], \n",
        "                     template='plotly', \n",
        "                     color_continuous_scale=\"oranges\",\n",
        "                     projection=\"natural earth\",\n",
        "                     title=\"Global Deaths as of: \" + str(date_yesterday)\n",
        "                    )\n",
        "\n",
        "fig.update_layout(\n",
        "    geo=dict(showframe=True, showcoastlines=False, \n",
        "             projection_type='natural earth')\n",
        ")\n",
        "\n",
        "fig.update_geos(resolution=110, showcountries=True, \n",
        "                lataxis_range=[-55, 90], lonaxis_range=[-180, 180])\n",
        "\n",
        "fig.show()"
      ],
      "execution_count": null,
      "outputs": []
    },
    {
      "cell_type": "code",
      "metadata": {
        "id": "wM3Om96tNLUr",
        "colab_type": "code",
        "colab": {}
      },
      "source": [
        "fig = px.scatter_geo(country_datasets[2],\n",
        "                     lat=\"Lat\", lon=\"Long\", color=str(date_yesterday),\n",
        "                     hover_name=\"Country\", \n",
        "                     size=str(date_yesterday),\n",
        "                     size_max=35, #hover_data=[\"State\"], \n",
        "                     template='plotly', \n",
        "                     color_continuous_scale=\"oranges\",\n",
        "                     projection=\"natural earth\",\n",
        "                     title=\"Global Recoveries as of: \" + str(date_yesterday)\n",
        "                    )\n",
        "\n",
        "fig.update_layout(\n",
        "    geo=dict(showframe=True, showcoastlines=False, \n",
        "             projection_type='natural earth')\n",
        ")\n",
        "\n",
        "fig.update_geos(resolution=110, showcountries=True, \n",
        "                lataxis_range=[-55, 90], lonaxis_range=[-180, 180])\n",
        "\n",
        "fig.show()"
      ],
      "execution_count": null,
      "outputs": []
    },
    {
      "cell_type": "markdown",
      "metadata": {
        "id": "rK55wLQOLzGT",
        "colab_type": "text"
      },
      "source": [
        "**REPLICATING THE FINANCIAL TIMES CHART**"
      ]
    }
  ]
}