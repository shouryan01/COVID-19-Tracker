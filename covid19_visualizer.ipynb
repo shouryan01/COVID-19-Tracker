{
  "nbformat": 4,
  "nbformat_minor": 0,
  "metadata": {
    "colab": {
      "name": "covid19_visualizer",
      "provenance": [],
      "collapsed_sections": [],
      "authorship_tag": "ABX9TyOhMNO68wF6RsdZAB3RsKGh",
      "include_colab_link": true
    },
    "kernelspec": {
      "name": "python3",
      "display_name": "Python 3"
    }
  },
  "cells": [
    {
      "cell_type": "markdown",
      "metadata": {
        "id": "view-in-github",
        "colab_type": "text"
      },
      "source": [
        "<a href=\"https://colab.research.google.com/github/shouryan01/COVID-19-Tracker/blob/master/covid19_visualizer.ipynb\" target=\"_parent\"><img src=\"https://colab.research.google.com/assets/colab-badge.svg\" alt=\"Open In Colab\"/></a>"
      ]
    },
    {
      "cell_type": "code",
      "metadata": {
        "id": "883lL1hWljQa",
        "colab_type": "code",
        "colab": {
          "base_uri": "https://localhost:8080/",
          "height": 34
        },
        "outputId": "54ac39c1-9e8d-4b92-8785-556513f424fa"
      },
      "source": [
        "#IMPORT LIBRARIES\n",
        "\n",
        "import pandas as pd\n",
        "import numpy as np\n",
        "import datetime\n",
        "import matplotlib.pyplot as plt\n",
        "import plotly.express as px\n",
        "import plotly.io as pio\n",
        "%matplotlib inline\n",
        "import seaborn as sns\n",
        "\n",
        "sns.set()\n",
        "sns.set_style(\"whitegrid\")\n",
        "custom_style = {\n",
        "            'grid.color': '0.8',\n",
        "            'grid.linestyle': '--',\n",
        "            'grid.linewidth': 0.5,\n",
        "}\n",
        "sns.set_style(custom_style)\n",
        "\n",
        "print(\"Done!\")"
      ],
      "execution_count": 31,
      "outputs": [
        {
          "output_type": "stream",
          "text": [
            "Done!\n"
          ],
          "name": "stdout"
        }
      ]
    },
    {
      "cell_type": "code",
      "metadata": {
        "id": "TPqYfW_Zlw7m",
        "colab_type": "code",
        "colab": {
          "base_uri": "https://localhost:8080/",
          "height": 51
        },
        "outputId": "9f1f7027-7386-4ff7-fc6e-0d3471c01e99"
      },
      "source": [
        "#LOAD DATA\n",
        "\n",
        "GLOBAL_CASES_SOURCE      = 'https://raw.githubusercontent.com/CSSEGISandData/COVID-19/master/csse_covid_19_data/csse_covid_19_time_series/time_series_covid19_confirmed_global.csv'\n",
        "GLOBAL_DEATHS_SOURCE     = 'https://raw.githubusercontent.com/CSSEGISandData/COVID-19/master/csse_covid_19_data/csse_covid_19_time_series/time_series_covid19_deaths_global.csv'\n",
        "GLOBAL_RECOVERIES_SOURCE = 'https://raw.githubusercontent.com/CSSEGISandData/COVID-19/master/csse_covid_19_data/csse_covid_19_time_series/time_series_covid19_recovered_global.csv'\n",
        "\n",
        "global_cases      = pd.read_csv(GLOBAL_CASES_SOURCE)\n",
        "global_deaths     = pd.read_csv(GLOBAL_DEATHS_SOURCE)\n",
        "global_recoveries = pd.read_csv(GLOBAL_RECOVERIES_SOURCE)\n",
        "datasets = [global_cases, global_deaths, global_recoveries]\n",
        "\n",
        "date_yesterday = pd.to_datetime(global_cases.columns[-1]).date()\n",
        "date_today     = date_yesterday + datetime.timedelta(days=1)\n",
        "\n",
        "print('\\nData was last updated on ' + str(date_today) + '.' + ' Latest data available for ' + str(date_yesterday))"
      ],
      "execution_count": 32,
      "outputs": [
        {
          "output_type": "stream",
          "text": [
            "\n",
            "Data was last updated on 2020-08-16. Latest data available for 2020-08-15\n"
          ],
          "name": "stdout"
        }
      ]
    },
    {
      "cell_type": "code",
      "metadata": {
        "id": "FPU3OJj-ogcw",
        "colab_type": "code",
        "colab": {
          "base_uri": "https://localhost:8080/",
          "height": 34
        },
        "outputId": "9cb3d11f-0246-4e24-d436-9366bdfa06c8"
      },
      "source": [
        "#CLEAN DATA\n",
        "\n",
        "def drop_negatives(df):\n",
        "    idx = df[df.iloc[:, -1] < 0].index.tolist()\n",
        "    for i in idx:\n",
        "        df.drop([i], inplace = True)\n",
        "    return df.reset_index(drop = True)\n",
        "\n",
        "datasets = [drop_negatives(i) for i in datasets]\n",
        "\n",
        "for i in range(3):\n",
        "    datasets[i][['Province/State']] = datasets[i][['Province/State']].fillna('')\n",
        "    datasets[i].fillna(0, inplace=True)\n",
        "    datasets[i].columns = datasets[i].columns[:4].tolist() + \\\n",
        "                          [pd.to_datetime(datasets[i].columns[j]).date() for j in range(4, len(datasets[i].columns))]\n",
        "\n",
        "\n",
        "\n",
        "print(\"Done!\")"
      ],
      "execution_count": 33,
      "outputs": [
        {
          "output_type": "stream",
          "text": [
            "Done!\n"
          ],
          "name": "stdout"
        }
      ]
    },
    {
      "cell_type": "code",
      "metadata": {
        "id": "cl_qrqaovlWx",
        "colab_type": "code",
        "colab": {
          "base_uri": "https://localhost:8080/",
          "height": 34
        },
        "outputId": "fcdf6fb9-ed28-49b7-ddbb-219b887a4a86"
      },
      "source": [
        "country_datasets = []\n",
        "for i in range(3):\n",
        "    total = datasets[i].groupby('Country/Region').sum()\n",
        "    total.rename(index={'US':'United States'}, inplace = True)\n",
        "    country_datasets.append(total)\n",
        "\n",
        "print(\"Done!\")"
      ],
      "execution_count": 40,
      "outputs": [
        {
          "output_type": "stream",
          "text": [
            "Done!\n"
          ],
          "name": "stdout"
        }
      ]
    },
    {
      "cell_type": "code",
      "metadata": {
        "id": "H6A3L69IqIf8",
        "colab_type": "code",
        "colab": {
          "base_uri": "https://localhost:8080/",
          "height": 139
        },
        "outputId": "ad6f4af7-0ec0-4539-f3a5-564a2bb94605"
      },
      "source": [
        "#INSTALL country_converter\n",
        "\n",
        "!pip install country_converter --upgrade"
      ],
      "execution_count": 35,
      "outputs": [
        {
          "output_type": "stream",
          "text": [
            "Requirement already up-to-date: country_converter in /usr/local/lib/python3.6/dist-packages (0.6.7)\n",
            "Requirement already satisfied, skipping upgrade: pandas>=0.17.0 in /usr/local/lib/python3.6/dist-packages (from country_converter) (1.0.5)\n",
            "Requirement already satisfied, skipping upgrade: numpy>=1.13.3 in /usr/local/lib/python3.6/dist-packages (from pandas>=0.17.0->country_converter) (1.18.5)\n",
            "Requirement already satisfied, skipping upgrade: python-dateutil>=2.6.1 in /usr/local/lib/python3.6/dist-packages (from pandas>=0.17.0->country_converter) (2.8.1)\n",
            "Requirement already satisfied, skipping upgrade: pytz>=2017.2 in /usr/local/lib/python3.6/dist-packages (from pandas>=0.17.0->country_converter) (2018.9)\n",
            "Requirement already satisfied, skipping upgrade: six>=1.5 in /usr/local/lib/python3.6/dist-packages (from python-dateutil>=2.6.1->pandas>=0.17.0->country_converter) (1.15.0)\n"
          ],
          "name": "stdout"
        }
      ]
    },
    {
      "cell_type": "code",
      "metadata": {
        "id": "gtCmfC-yvlUo",
        "colab_type": "code",
        "colab": {
          "base_uri": "https://localhost:8080/",
          "height": 136
        },
        "outputId": "6055ba11-57eb-40e7-8e8e-bd05f0c840fc"
      },
      "source": [
        "#LABEL CONTINENT\n",
        "\n",
        "import country_converter as coco\n",
        "for dataset in country_datasets:\n",
        "    continent = coco.convert(names=dataset.index.tolist(), to='Continent')\n",
        "    dataset['Continent'] = continent\n",
        "\n",
        "print(\"Done!\")"
      ],
      "execution_count": 47,
      "outputs": [
        {
          "output_type": "stream",
          "text": [
            "WARNING:root:Diamond Princess not found in regex\n",
            "WARNING:root:MS Zaandam not found in regex\n",
            "WARNING:root:Diamond Princess not found in regex\n",
            "WARNING:root:MS Zaandam not found in regex\n",
            "WARNING:root:Diamond Princess not found in regex\n",
            "WARNING:root:MS Zaandam not found in regex\n"
          ],
          "name": "stderr"
        },
        {
          "output_type": "stream",
          "text": [
            "Done!\n"
          ],
          "name": "stdout"
        }
      ]
    },
    {
      "cell_type": "code",
      "metadata": {
        "id": "CZiSuQBVzGjQ",
        "colab_type": "code",
        "colab": {
          "base_uri": "https://localhost:8080/",
          "height": 68
        },
        "outputId": "74e6528b-dfa9-40e0-a9cc-516dac8c2e29"
      },
      "source": [
        "print('Global Cases      : {}'.format(datasets[0].sum()[date_yesterday]))\n",
        "print('Global Deaths     : {}'.format(datasets[1].sum()[date_yesterday]))\n",
        "print('Global Recoveries : {}'.format(datasets[2].sum()[date_yesterday]))\n"
      ],
      "execution_count": 55,
      "outputs": [
        {
          "output_type": "stream",
          "text": [
            "Global Cases      : 21459699\n",
            "Global Deaths     : 771063\n",
            "Global Recoveries : 13445842\n"
          ],
          "name": "stdout"
        }
      ]
    }
  ]
}